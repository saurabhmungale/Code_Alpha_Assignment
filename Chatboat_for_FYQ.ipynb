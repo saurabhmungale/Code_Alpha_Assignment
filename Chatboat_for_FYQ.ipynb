{
  "nbformat": 4,
  "nbformat_minor": 0,
  "metadata": {
    "colab": {
      "provenance": [],
      "authorship_tag": "ABX9TyOIEhr6uUOIBqcLEdwY5Vl8",
      "include_colab_link": true
    },
    "kernelspec": {
      "name": "python3",
      "display_name": "Python 3"
    },
    "language_info": {
      "name": "python"
    }
  },
  "cells": [
    {
      "cell_type": "markdown",
      "metadata": {
        "id": "view-in-github",
        "colab_type": "text"
      },
      "source": [
        "<a href=\"https://colab.research.google.com/github/saurabhmungale/Code_Alpha_Assignment/blob/main/Chatboat_for_FYQ.ipynb\" target=\"_parent\"><img src=\"https://colab.research.google.com/assets/colab-badge.svg\" alt=\"Open In Colab\"/></a>"
      ]
    },
    {
      "cell_type": "code",
      "source": [
        "import spacy\n",
        "from sklearn.feature_extraction.text import TfidfVectorizer\n",
        "from sklearn.metrics.pairwise import cosine_similarity\n",
        "import numpy as np\n",
        "\n",
        "# Predefined FAQs and answers\n",
        "faqs = [\n",
        "    \"What is your return policy?\",\n",
        "    \"How do I track my order?\",\n",
        "    \"What payment methods do you accept?\",\n",
        "    \"Do you ship internationally?\",\n",
        "    \"How do I contact customer support?\"\n",
        "]\n",
        "\n",
        "answers = [\n",
        "    \"Our return policy allows returns within 30 days of purchase with a valid receipt.\",\n",
        "    \"You can track your order by logging into your account and visiting the 'Orders' section.\",\n",
        "    \"We accept credit cards, debit cards, PayPal, and other major payment methods.\",\n",
        "    \"Yes, we ship internationally. Shipping charges and delivery times vary by location.\",\n",
        "    \"You can contact customer support via our website's chat or by calling our support hotline.\"\n",
        "]\n",
        "\n",
        "# Load SpaCy model for NLP processing\n",
        "nlp = spacy.load(\"en_core_web_sm\")\n",
        "\n",
        "# Function to preprocess text\n",
        "def preprocess_text(text):\n",
        "    doc = nlp(text)\n",
        "    return \" \".join([token.lemma_ for token in doc if not token.is_stop])\n",
        "\n",
        "# Preprocess FAQs\n",
        "processed_faqs = [preprocess_text(faq) for faq in faqs]\n",
        "\n",
        "# Function to find the best-matching FAQ\n",
        "def find_best_match(query):\n",
        "    # Preprocess the query\n",
        "    processed_query = preprocess_text(query)\n",
        "\n",
        "    # Use TF-IDF vectorizer to compute similarity\n",
        "    vectorizer = TfidfVectorizer()\n",
        "    tfidf_matrix = vectorizer.fit_transform(processed_faqs + [processed_query])\n",
        "    query_vector = tfidf_matrix[-1]\n",
        "    faq_vectors = tfidf_matrix[:-1]\n",
        "\n",
        "    # Compute cosine similarity\n",
        "    similarities = cosine_similarity(query_vector, faq_vectors).flatten()\n",
        "\n",
        "    # Find the index of the most similar FAQ\n",
        "    best_match_index = np.argmax(similarities)\n",
        "    return best_match_index, similarities[best_match_index]\n",
        "\n",
        "# Chatbot function\n",
        "def chatbot():\n",
        "    print(\"Chatbot: Hi! How can I help you today? (type 'exit' to quit)\")\n",
        "    while True:\n",
        "        user_input = input(\"You: \")\n",
        "        if user_input.lower() == \"exit\":\n",
        "            print(\"Chatbot: Goodbye!\")\n",
        "            break\n",
        "        else:\n",
        "            match_index, similarity = find_best_match(user_input)\n",
        "            if similarity > 0.3:  # Set a threshold for similarity\n",
        "                print(f\"Chatbot: {answers[match_index]}\")\n",
        "            else:\n",
        "                print(\"Chatbot: I'm sorry, I didn't understand that. Could you please rephrase?\")\n",
        "\n",
        "# Run the chatbot\n",
        "if __name__ == \"__main__\":\n",
        "    chatbot()\n"
      ],
      "metadata": {
        "colab": {
          "base_uri": "https://localhost:8080/"
        },
        "id": "GBDzkv6bBaTm",
        "outputId": "410e8920-f4ab-4426-a4dd-c2dc3c209e90"
      },
      "execution_count": null,
      "outputs": [
        {
          "output_type": "stream",
          "name": "stdout",
          "text": [
            "Chatbot: Hi! How can I help you today? (type 'exit' to quit)\n",
            "You: Hii\n",
            "Chatbot: I'm sorry, I didn't understand that. Could you please rephrase?\n",
            "You: What is your return policy\n",
            "Chatbot: HelloOur return policy allows returns within 30 days of purchase with a valid receipt.\n"
          ]
        }
      ]
    }
  ]
}